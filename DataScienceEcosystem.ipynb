{
 "cells": [
  {
   "cell_type": "markdown",
   "id": "3646529a-c247-4df2-b09c-df20ce44895c",
   "metadata": {},
   "source": [
    "# Data Science Tools and Ecosystem"
   ]
  },
  {
   "cell_type": "markdown",
   "id": "527e9cbb-7124-4f38-960f-c6caf8a2c740",
   "metadata": {
    "tags": []
   },
   "source": [
    "## In this notebook, Data Science Tools and Ecosystem are summarized.\n",
    "**Objectives:**\n",
    "* List a few popular languages for Data Science\n",
    "* List some of the commonly used libraries used by Data Scientists\n",
    "* List a few data science tools\n",
    "* Show examples of arithmetic operation in Python\n"
   ]
  },
  {
   "cell_type": "markdown",
   "id": "ca989cb9-4885-4927-a238-3d9e37c18b7c",
   "metadata": {},
   "source": [
    "## Some of the popular languages that Data Scientists use are:\n",
    "1. Python\n",
    "2. R\n",
    "3. Julia"
   ]
  },
  {
   "cell_type": "markdown",
   "id": "94d817c1-0c47-412d-826a-698f7550dae7",
   "metadata": {
    "tags": []
   },
   "source": [
    "## Some of the commonly used libraries used by Data Scientists include:\n",
    "1. Pandas\n",
    "2. Numpy\n",
    "3. Scikit-learn\n",
    "4. Matplotlib\n",
    "5. ggplot2\n",
    "6. Caret"
   ]
  },
  {
   "cell_type": "markdown",
   "id": "722ab08f-f965-46b8-bab1-5f5a30bd0a5c",
   "metadata": {
    "tags": []
   },
   "source": [
    "| Data Science Tools |\n",
    "|:------------------:|\n",
    "|  Jupyter Notebook  |\n",
    "|      RStudio       |\n",
    "|   Visual Studio    |"
   ]
  },
  {
   "cell_type": "markdown",
   "id": "132155c8-e575-4fe4-b605-e00d4f29a415",
   "metadata": {},
   "source": [
    "### Below are a few examples of evaluating arithmetic expressions in Python"
   ]
  },
  {
   "cell_type": "code",
   "execution_count": 2,
   "id": "e8d8e736-c1d3-4212-a3a5-bb9ebd498af1",
   "metadata": {
    "tags": []
   },
   "outputs": [
    {
     "data": {
      "text/plain": [
       "17"
      ]
     },
     "execution_count": 2,
     "metadata": {},
     "output_type": "execute_result"
    }
   ],
   "source": [
    "# This a simple arithmetic expression to mutiply then add integers\n",
    "(3*4)+5"
   ]
  },
  {
   "cell_type": "code",
   "execution_count": 3,
   "id": "321350a0-6860-44c5-af6c-3012a74c4767",
   "metadata": {
    "tags": []
   },
   "outputs": [
    {
     "data": {
      "text/plain": [
       "3.3333333333333335"
      ]
     },
     "execution_count": 3,
     "metadata": {},
     "output_type": "execute_result"
    }
   ],
   "source": [
    "# This will convert 200 minutes to hours by diving by 60\n",
    "200/60"
   ]
  },
  {
   "cell_type": "markdown",
   "id": "e4ad79de-d40b-47ae-85c6-fb9990781d9c",
   "metadata": {},
   "source": [
    "## Author\n",
    "Ali Kazemi Jahromi"
   ]
  },
  {
   "cell_type": "code",
   "execution_count": null,
   "id": "61fb416c-2afa-4511-9964-f2e5f10c7b7c",
   "metadata": {},
   "outputs": [],
   "source": []
  }
 ],
 "metadata": {
  "kernelspec": {
   "display_name": "Python",
   "language": "python",
   "name": "conda-env-python-py"
  },
  "language_info": {
   "codemirror_mode": {
    "name": "ipython",
    "version": 3
   },
   "file_extension": ".py",
   "mimetype": "text/x-python",
   "name": "python",
   "nbconvert_exporter": "python",
   "pygments_lexer": "ipython3",
   "version": "3.7.12"
  }
 },
 "nbformat": 4,
 "nbformat_minor": 5
}
